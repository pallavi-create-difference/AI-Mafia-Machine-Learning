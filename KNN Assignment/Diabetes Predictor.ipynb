{
 "cells": [
  {
   "cell_type": "code",
   "execution_count": 1,
   "metadata": {},
   "outputs": [],
   "source": [
    "import numpy as np\n",
    "import pandas as pd\n",
    "import matplotlib.pyplot as plt"
   ]
  },
  {
   "cell_type": "code",
   "execution_count": 2,
   "metadata": {},
   "outputs": [],
   "source": [
    "x_train=pd.read_csv('./Training Data/Diabetes_XTrain.csv')\n",
    "y_train=pd.read_csv('./Training Data/Diabetes_YTrain.csv')\n",
    "x_test=pd.read_csv('./Testing Data/Diabetes_Xtest.csv')"
   ]
  },
  {
   "cell_type": "code",
   "execution_count": 3,
   "metadata": {},
   "outputs": [
    {
     "name": "stdout",
     "output_type": "stream",
     "text": [
      "(576, 8) (576, 1) (192, 8)\n"
     ]
    }
   ],
   "source": [
    "print(x_train.shape,y_train.shape,x_test.shape)"
   ]
  },
  {
   "cell_type": "code",
   "execution_count": 4,
   "metadata": {},
   "outputs": [
    {
     "data": {
      "text/html": [
       "<div>\n",
       "<style scoped>\n",
       "    .dataframe tbody tr th:only-of-type {\n",
       "        vertical-align: middle;\n",
       "    }\n",
       "\n",
       "    .dataframe tbody tr th {\n",
       "        vertical-align: top;\n",
       "    }\n",
       "\n",
       "    .dataframe thead th {\n",
       "        text-align: right;\n",
       "    }\n",
       "</style>\n",
       "<table border=\"1\" class=\"dataframe\">\n",
       "  <thead>\n",
       "    <tr style=\"text-align: right;\">\n",
       "      <th></th>\n",
       "      <th>Pregnancies</th>\n",
       "      <th>Glucose</th>\n",
       "      <th>BloodPressure</th>\n",
       "      <th>SkinThickness</th>\n",
       "      <th>Insulin</th>\n",
       "      <th>BMI</th>\n",
       "      <th>DiabetesPedigreeFunction</th>\n",
       "      <th>Age</th>\n",
       "    </tr>\n",
       "  </thead>\n",
       "  <tbody>\n",
       "    <tr>\n",
       "      <th>0</th>\n",
       "      <td>7</td>\n",
       "      <td>168</td>\n",
       "      <td>88</td>\n",
       "      <td>42</td>\n",
       "      <td>321</td>\n",
       "      <td>38.2</td>\n",
       "      <td>0.787</td>\n",
       "      <td>40</td>\n",
       "    </tr>\n",
       "    <tr>\n",
       "      <th>1</th>\n",
       "      <td>8</td>\n",
       "      <td>110</td>\n",
       "      <td>76</td>\n",
       "      <td>0</td>\n",
       "      <td>0</td>\n",
       "      <td>27.8</td>\n",
       "      <td>0.237</td>\n",
       "      <td>58</td>\n",
       "    </tr>\n",
       "    <tr>\n",
       "      <th>2</th>\n",
       "      <td>7</td>\n",
       "      <td>147</td>\n",
       "      <td>76</td>\n",
       "      <td>0</td>\n",
       "      <td>0</td>\n",
       "      <td>39.4</td>\n",
       "      <td>0.257</td>\n",
       "      <td>43</td>\n",
       "    </tr>\n",
       "    <tr>\n",
       "      <th>3</th>\n",
       "      <td>2</td>\n",
       "      <td>100</td>\n",
       "      <td>66</td>\n",
       "      <td>20</td>\n",
       "      <td>90</td>\n",
       "      <td>32.9</td>\n",
       "      <td>0.867</td>\n",
       "      <td>28</td>\n",
       "    </tr>\n",
       "    <tr>\n",
       "      <th>4</th>\n",
       "      <td>4</td>\n",
       "      <td>129</td>\n",
       "      <td>86</td>\n",
       "      <td>20</td>\n",
       "      <td>270</td>\n",
       "      <td>35.1</td>\n",
       "      <td>0.231</td>\n",
       "      <td>23</td>\n",
       "    </tr>\n",
       "  </tbody>\n",
       "</table>\n",
       "</div>"
      ],
      "text/plain": [
       "   Pregnancies  Glucose  BloodPressure  SkinThickness  Insulin   BMI  \\\n",
       "0            7      168             88             42      321  38.2   \n",
       "1            8      110             76              0        0  27.8   \n",
       "2            7      147             76              0        0  39.4   \n",
       "3            2      100             66             20       90  32.9   \n",
       "4            4      129             86             20      270  35.1   \n",
       "\n",
       "   DiabetesPedigreeFunction  Age  \n",
       "0                     0.787   40  \n",
       "1                     0.237   58  \n",
       "2                     0.257   43  \n",
       "3                     0.867   28  \n",
       "4                     0.231   23  "
      ]
     },
     "execution_count": 4,
     "metadata": {},
     "output_type": "execute_result"
    }
   ],
   "source": [
    "x_train.head()\n"
   ]
  },
  {
   "cell_type": "code",
   "execution_count": 5,
   "metadata": {},
   "outputs": [
    {
     "data": {
      "text/html": [
       "<div>\n",
       "<style scoped>\n",
       "    .dataframe tbody tr th:only-of-type {\n",
       "        vertical-align: middle;\n",
       "    }\n",
       "\n",
       "    .dataframe tbody tr th {\n",
       "        vertical-align: top;\n",
       "    }\n",
       "\n",
       "    .dataframe thead th {\n",
       "        text-align: right;\n",
       "    }\n",
       "</style>\n",
       "<table border=\"1\" class=\"dataframe\">\n",
       "  <thead>\n",
       "    <tr style=\"text-align: right;\">\n",
       "      <th></th>\n",
       "      <th>Outcome</th>\n",
       "    </tr>\n",
       "  </thead>\n",
       "  <tbody>\n",
       "    <tr>\n",
       "      <th>0</th>\n",
       "      <td>1</td>\n",
       "    </tr>\n",
       "    <tr>\n",
       "      <th>1</th>\n",
       "      <td>0</td>\n",
       "    </tr>\n",
       "    <tr>\n",
       "      <th>2</th>\n",
       "      <td>1</td>\n",
       "    </tr>\n",
       "    <tr>\n",
       "      <th>3</th>\n",
       "      <td>1</td>\n",
       "    </tr>\n",
       "    <tr>\n",
       "      <th>4</th>\n",
       "      <td>0</td>\n",
       "    </tr>\n",
       "  </tbody>\n",
       "</table>\n",
       "</div>"
      ],
      "text/plain": [
       "   Outcome\n",
       "0        1\n",
       "1        0\n",
       "2        1\n",
       "3        1\n",
       "4        0"
      ]
     },
     "execution_count": 5,
     "metadata": {},
     "output_type": "execute_result"
    }
   ],
   "source": [
    "y_train.head()"
   ]
  },
  {
   "cell_type": "code",
   "execution_count": 6,
   "metadata": {},
   "outputs": [],
   "source": [
    "x_train=x_train.values\n",
    "y_train=y_train.values\n",
    "x_test=x_test.values\n",
    "y_train=y_train.reshape((-1,))"
   ]
  },
  {
   "cell_type": "code",
   "execution_count": 7,
   "metadata": {},
   "outputs": [
    {
     "name": "stdout",
     "output_type": "stream",
     "text": [
      "[1 0 1 1 0 1 0 0 1 0 0 1 0 1 1 0 1 0 0 0 0 0 0 0 1 0 0 1 0 1 0 0 0 1 0 0 0\n",
      " 0 0 0 0 0 0 0 0 0 0 1 1 1 0 0 1 0 1 0 0 0 0 1 0 1 1 1 0 1 0 1 0 0 0 1 0 0\n",
      " 1 0 0 0 1 0 0 1 0 0 0 1 0 0 1 0 0 1 0 0 0 0 1 1 0 0 0 0 0 0 0 1 0 0 1 0 1\n",
      " 1 1 0 0 0 1 1 1 0 0 1 0 1 1 1 1 0 0 1 0 1 0 0 0 0 0 0 0 0 0 1 1 0 0 1 0 1\n",
      " 1 0 1 1 0 1 1 1 0 0 0 0 0 0 0 0 0 1 0 0 0 1 1 1 1 0 1 0 1 0 0 0 0 0 1 1 1\n",
      " 0 0 0 0 0 0 0 1 1 0 0 0 1 0 0 0 0 0 0 0 1 1 0 1 1 0 0 0 1 0 0 1 1 0 0 1 0\n",
      " 0 0 1 0 0 1 0 1 1 0 1 0 1 1 0 0 1 0 0 0 0 0 1 0 1 0 0 1 0 1 0 1 1 0 0 0 0\n",
      " 0 1 0 0 0 0 1 0 1 0 1 0 1 0 1 0 0 1 1 0 0 0 0 0 0 1 1 0 0 1 0 0 1 0 1 0 0\n",
      " 0 0 0 0 0 1 0 0 1 1 1 1 0 1 0 0 0 1 1 1 0 0 0 0 1 1 1 0 1 0 0 0 0 0 0 0 0\n",
      " 0 0 0 1 0 1 0 1 0 0 0 1 0 0 0 1 1 0 0 1 1 0 1 0 0 0 0 0 0 0 0 0 0 0 0 0 0\n",
      " 1 0 1 1 1 0 1 1 1 0 0 0 0 1 0 0 1 1 0 1 0 0 0 0 1 0 0 0 0 0 0 1 1 0 0 1 0\n",
      " 1 0 1 0 0 0 1 0 0 1 1 0 1 1 1 1 1 0 0 0 0 1 0 0 0 0 0 1 0 1 0 0 0 0 0 1 1\n",
      " 0 0 0 1 1 0 0 0 0 1 0 0 0 0 0 0 1 0 0 1 0 0 0 0 0 1 0 0 0 0 0 0 0 0 1 1 1\n",
      " 0 1 1 0 0 0 0 0 1 1 0 0 1 0 0 1 0 0 1 1 1 0 1 1 0 0 0 0 0 0 1 1 0 0 1 0 1\n",
      " 0 1 0 0 0 1 0 1 0 1 0 0 1 1 0 0 0 0 0 0 1 0 1 0 0 0 1 1 0 0 1 0 0 0 0 1 1\n",
      " 1 1 0 0 0 1 0 0 1 0 0 0 1 0 0 0 0 1 0 0 0]\n"
     ]
    }
   ],
   "source": [
    "print(y_train)"
   ]
  },
  {
   "cell_type": "code",
   "execution_count": 8,
   "metadata": {},
   "outputs": [
    {
     "data": {
      "image/png": "[encoded data removed]",
      "text/plain": [
       "<Figure size 432x288 with 1 Axes>"
      ]
     },
     "metadata": {
      "needs_background": "light"
     },
     "output_type": "display_data"
    }
   ],
   "source": [
    "plt.scatter(x_train[:,0],x_train[:,1])\n",
    "plt.show()"
   ]
  },
  {
   "cell_type": "code",
   "execution_count": 9,
   "metadata": {},
   "outputs": [],
   "source": [
    "def dist(x1,x2):\n",
    "    return np.sqrt(sum((x1-x2)**2))\n",
    "\n",
    "# Test Time \n",
    "def knn(X,Y,queryPoint,k=5):\n",
    "    \n",
    "    vals = []\n",
    "    m = X.shape[0]\n",
    "    \n",
    "    for i in range(m):\n",
    "        d = dist(queryPoint,X[i])\n",
    "        vals.append((d,Y[i]))\n",
    "        \n",
    "    \n",
    "    vals = sorted(vals)\n",
    "    # Nearest/First K points\n",
    "    vals = vals[:k]\n",
    "    \n",
    "    vals = np.array(vals)\n",
    "    \n",
    "    #print(vals)\n",
    "    \n",
    "    new_vals = np.unique(vals[:,1],return_counts=True)\n",
    "    print(new_vals)\n",
    "    \n",
    "    index = new_vals[1].argmax()\n",
    "    pred = new_vals[0][index]\n",
    "    \n",
    "    return pred"
   ]
  },
  {
   "cell_type": "code",
   "execution_count": 30,
   "metadata": {},
   "outputs": [
    {
     "name": "stdout",
     "output_type": "stream",
     "text": [
      "192\n",
      "(array([0.]), array([5], dtype=int64))\n",
      "(array([0.]), array([5], dtype=int64))\n",
      "(array([0.]), array([5], dtype=int64))\n",
      "(array([0.]), array([5], dtype=int64))\n",
      "(array([0.]), array([5], dtype=int64))\n",
      "(array([0.]), array([5], dtype=int64))\n",
      "(array([0.]), array([5], dtype=int64))\n",
      "(array([0.]), array([5], dtype=int64))\n",
      "(array([0.]), array([5], dtype=int64))\n",
      "(array([0.]), array([5], dtype=int64))\n",
      "(array([0.]), array([5], dtype=int64))\n",
      "(array([0.]), array([5], dtype=int64))\n",
      "(array([0.]), array([5], dtype=int64))\n",
      "(array([0.]), array([5], dtype=int64))\n",
      "(array([0.]), array([5], dtype=int64))\n",
      "(array([0.]), array([5], dtype=int64))\n",
      "(array([0.]), array([5], dtype=int64))\n",
      "(array([0.]), array([5], dtype=int64))\n",
      "(array([0.]), array([5], dtype=int64))\n",
      "(array([0.]), array([5], dtype=int64))\n",
      "(array([0.]), array([5], dtype=int64))\n",
      "(array([0.]), array([5], dtype=int64))\n",
      "(array([0.]), array([5], dtype=int64))\n",
      "(array([0.]), array([5], dtype=int64))\n",
      "(array([0.]), array([5], dtype=int64))\n",
      "(array([0.]), array([5], dtype=int64))\n",
      "(array([0.]), array([5], dtype=int64))\n",
      "(array([0.]), array([5], dtype=int64))\n",
      "(array([0.]), array([5], dtype=int64))\n",
      "(array([0.]), array([5], dtype=int64))\n",
      "(array([0.]), array([5], dtype=int64))\n",
      "(array([0.]), array([5], dtype=int64))\n",
      "(array([0.]), array([5], dtype=int64))\n",
      "(array([0.]), array([5], dtype=int64))\n",
      "(array([0.]), array([5], dtype=int64))\n",
      "(array([0.]), array([5], dtype=int64))\n",
      "(array([0.]), array([5], dtype=int64))\n",
      "(array([0.]), array([5], dtype=int64))\n",
      "(array([0.]), array([5], dtype=int64))\n",
      "(array([0.]), array([5], dtype=int64))\n",
      "(array([0.]), array([5], dtype=int64))\n",
      "(array([0.]), array([5], dtype=int64))\n",
      "(array([0.]), array([5], dtype=int64))\n",
      "(array([0.]), array([5], dtype=int64))\n",
      "(array([0.]), array([5], dtype=int64))\n",
      "(array([0.]), array([5], dtype=int64))\n",
      "(array([0.]), array([5], dtype=int64))\n",
      "(array([0.]), array([5], dtype=int64))\n",
      "(array([0.]), array([5], dtype=int64))\n",
      "(array([0.]), array([5], dtype=int64))\n",
      "(array([0.]), array([5], dtype=int64))\n",
      "(array([0.]), array([5], dtype=int64))\n",
      "(array([0.]), array([5], dtype=int64))\n",
      "(array([0.]), array([5], dtype=int64))\n",
      "(array([0.]), array([5], dtype=int64))\n",
      "(array([0.]), array([5], dtype=int64))\n",
      "(array([0.]), array([5], dtype=int64))\n",
      "(array([0.]), array([5], dtype=int64))\n",
      "(array([0.]), array([5], dtype=int64))\n",
      "(array([0.]), array([5], dtype=int64))\n",
      "(array([0.]), array([5], dtype=int64))\n",
      "(array([0.]), array([5], dtype=int64))\n",
      "(array([0.]), array([5], dtype=int64))\n",
      "(array([0.]), array([5], dtype=int64))\n",
      "(array([0.]), array([5], dtype=int64))\n",
      "(array([0.]), array([5], dtype=int64))\n",
      "(array([0.]), array([5], dtype=int64))\n",
      "(array([0.]), array([5], dtype=int64))\n",
      "(array([0.]), array([5], dtype=int64))\n",
      "(array([0.]), array([5], dtype=int64))\n",
      "(array([0.]), array([5], dtype=int64))\n",
      "(array([0.]), array([5], dtype=int64))\n",
      "(array([0.]), array([5], dtype=int64))\n",
      "(array([0.]), array([5], dtype=int64))\n",
      "(array([0.]), array([5], dtype=int64))\n",
      "(array([0.]), array([5], dtype=int64))\n",
      "(array([0.]), array([5], dtype=int64))\n",
      "(array([0.]), array([5], dtype=int64))\n",
      "(array([0.]), array([5], dtype=int64))\n",
      "(array([0.]), array([5], dtype=int64))\n",
      "(array([0.]), array([5], dtype=int64))\n",
      "(array([0.]), array([5], dtype=int64))\n",
      "(array([0.]), array([5], dtype=int64))\n",
      "(array([0.]), array([5], dtype=int64))\n",
      "(array([0.]), array([5], dtype=int64))\n",
      "(array([0.]), array([5], dtype=int64))\n",
      "(array([0.]), array([5], dtype=int64))\n",
      "(array([0.]), array([5], dtype=int64))\n",
      "(array([0.]), array([5], dtype=int64))\n",
      "(array([0.]), array([5], dtype=int64))\n",
      "(array([0.]), array([5], dtype=int64))\n",
      "(array([0.]), array([5], dtype=int64))\n",
      "(array([0.]), array([5], dtype=int64))\n",
      "(array([0.]), array([5], dtype=int64))\n",
      "(array([0.]), array([5], dtype=int64))\n",
      "(array([0.]), array([5], dtype=int64))\n",
      "(array([0.]), array([5], dtype=int64))\n",
      "(array([0.]), array([5], dtype=int64))\n",
      "(array([0.]), array([5], dtype=int64))\n",
      "(array([0., 1.]), array([4, 1], dtype=int64))\n",
      "(array([0., 1.]), array([4, 1], dtype=int64))\n",
      "(array([0., 1.]), array([4, 1], dtype=int64))\n",
      "(array([0., 1.]), array([4, 1], dtype=int64))\n",
      "(array([0., 1.]), array([4, 1], dtype=int64))\n",
      "(array([0., 1.]), array([4, 1], dtype=int64))\n",
      "(array([0., 1.]), array([4, 1], dtype=int64))\n",
      "(array([0., 1.]), array([3, 2], dtype=int64))\n",
      "(array([0., 1.]), array([3, 2], dtype=int64))\n",
      "(array([0., 1.]), array([3, 2], dtype=int64))\n",
      "(array([0., 1.]), array([2, 3], dtype=int64))\n",
      "(array([0., 1.]), array([2, 3], dtype=int64))\n",
      "(array([0., 1.]), array([2, 3], dtype=int64))\n",
      "(array([0., 1.]), array([2, 3], dtype=int64))\n",
      "(array([0., 1.]), array([2, 3], dtype=int64))\n",
      "(array([0., 1.]), array([2, 3], dtype=int64))\n",
      "(array([0., 1.]), array([2, 3], dtype=int64))\n",
      "(array([0., 1.]), array([2, 3], dtype=int64))\n",
      "(array([0., 1.]), array([2, 3], dtype=int64))\n",
      "(array([0., 1.]), array([2, 3], dtype=int64))\n",
      "(array([0., 1.]), array([2, 3], dtype=int64))\n",
      "(array([0., 1.]), array([2, 3], dtype=int64))\n",
      "(array([0., 1.]), array([2, 3], dtype=int64))\n",
      "(array([0., 1.]), array([2, 3], dtype=int64))\n",
      "(array([0., 1.]), array([2, 3], dtype=int64))\n",
      "(array([0., 1.]), array([2, 3], dtype=int64))\n",
      "(array([0., 1.]), array([2, 3], dtype=int64))\n",
      "(array([0., 1.]), array([2, 3], dtype=int64))\n",
      "(array([0., 1.]), array([2, 3], dtype=int64))\n",
      "(array([0., 1.]), array([2, 3], dtype=int64))\n",
      "(array([0., 1.]), array([2, 3], dtype=int64))\n",
      "(array([0., 1.]), array([2, 3], dtype=int64))\n",
      "(array([0., 1.]), array([2, 3], dtype=int64))\n",
      "(array([0., 1.]), array([2, 3], dtype=int64))\n",
      "(array([0., 1.]), array([2, 3], dtype=int64))\n",
      "(array([0., 1.]), array([2, 3], dtype=int64))\n",
      "(array([0., 1.]), array([2, 3], dtype=int64))\n",
      "(array([0., 1.]), array([2, 3], dtype=int64))\n",
      "(array([0., 1.]), array([2, 3], dtype=int64))\n",
      "(array([0., 1.]), array([2, 3], dtype=int64))\n",
      "(array([0., 1.]), array([2, 3], dtype=int64))\n",
      "(array([0., 1.]), array([2, 3], dtype=int64))\n",
      "(array([0., 1.]), array([1, 4], dtype=int64))\n",
      "(array([0., 1.]), array([1, 4], dtype=int64))\n",
      "(array([0., 1.]), array([1, 4], dtype=int64))\n",
      "(array([0., 1.]), array([1, 4], dtype=int64))\n",
      "(array([0., 1.]), array([1, 4], dtype=int64))\n",
      "(array([0., 1.]), array([1, 4], dtype=int64))\n",
      "(array([0., 1.]), array([1, 4], dtype=int64))\n",
      "(array([0., 1.]), array([1, 4], dtype=int64))\n",
      "(array([0., 1.]), array([1, 4], dtype=int64))\n",
      "(array([0., 1.]), array([1, 4], dtype=int64))\n",
      "(array([0., 1.]), array([1, 4], dtype=int64))\n",
      "(array([0., 1.]), array([1, 4], dtype=int64))\n",
      "(array([0., 1.]), array([1, 4], dtype=int64))\n",
      "(array([0., 1.]), array([1, 4], dtype=int64))\n",
      "(array([0., 1.]), array([1, 4], dtype=int64))\n",
      "(array([0., 1.]), array([1, 4], dtype=int64))\n",
      "(array([0., 1.]), array([1, 4], dtype=int64))\n",
      "(array([0., 1.]), array([1, 4], dtype=int64))\n",
      "(array([0., 1.]), array([1, 4], dtype=int64))\n",
      "(array([0., 1.]), array([1, 4], dtype=int64))\n",
      "(array([0., 1.]), array([1, 4], dtype=int64))\n",
      "(array([0., 1.]), array([1, 4], dtype=int64))\n",
      "(array([0., 1.]), array([1, 4], dtype=int64))\n",
      "(array([0., 1.]), array([1, 4], dtype=int64))\n",
      "(array([0., 1.]), array([1, 4], dtype=int64))\n",
      "(array([0., 1.]), array([1, 4], dtype=int64))\n",
      "(array([0., 1.]), array([1, 4], dtype=int64))\n",
      "(array([0., 1.]), array([1, 4], dtype=int64))\n",
      "(array([0., 1.]), array([1, 4], dtype=int64))\n",
      "(array([1.]), array([5], dtype=int64))\n",
      "(array([1.]), array([5], dtype=int64))\n",
      "(array([1.]), array([5], dtype=int64))\n",
      "(array([1.]), array([5], dtype=int64))\n",
      "(array([1.]), array([5], dtype=int64))\n",
      "(array([1.]), array([5], dtype=int64))\n",
      "(array([1.]), array([5], dtype=int64))\n",
      "(array([1.]), array([5], dtype=int64))\n",
      "(array([1.]), array([5], dtype=int64))\n",
      "(array([1.]), array([5], dtype=int64))\n",
      "(array([1.]), array([5], dtype=int64))\n",
      "(array([1.]), array([5], dtype=int64))\n",
      "(array([1.]), array([5], dtype=int64))\n",
      "(array([1.]), array([5], dtype=int64))\n",
      "(array([1.]), array([5], dtype=int64))\n",
      "(array([1.]), array([5], dtype=int64))\n",
      "(array([1.]), array([5], dtype=int64))\n",
      "(array([1.]), array([5], dtype=int64))\n",
      "(array([1.]), array([5], dtype=int64))\n",
      "(array([1.]), array([5], dtype=int64))\n",
      "(array([1.]), array([5], dtype=int64))\n",
      "(array([1.]), array([5], dtype=int64))\n"
     ]
    }
   ],
   "source": [
    "y_val=[]\n",
    "m=x_test.shape[0]\n",
    "print(m)\n",
    "for i in range(m):\n",
    "    y=knn(x_train,y_train,i)\n",
    "    y_val.append(y)\n"
   ]
  },
  {
   "cell_type": "code",
   "execution_count": 34,
   "metadata": {},
   "outputs": [
    {
     "name": "stdout",
     "output_type": "stream",
     "text": [
      "[0.0, 0.0, 0.0, 0.0, 0.0, 0.0, 0.0, 0.0, 0.0, 0.0, 0.0, 0.0, 0.0, 0.0, 0.0, 0.0, 0.0, 0.0, 0.0, 0.0, 0.0, 0.0, 0.0, 0.0, 0.0, 0.0, 0.0, 0.0, 0.0, 0.0, 0.0, 0.0, 0.0, 0.0, 0.0, 0.0, 0.0, 0.0, 0.0, 0.0, 0.0, 0.0, 0.0, 0.0, 0.0, 0.0, 0.0, 0.0, 0.0, 0.0, 0.0, 0.0, 0.0, 0.0, 0.0, 0.0, 0.0, 0.0, 0.0, 0.0, 0.0, 0.0, 0.0, 0.0, 0.0, 0.0, 0.0, 0.0, 0.0, 0.0, 0.0, 0.0, 0.0, 0.0, 0.0, 0.0, 0.0, 0.0, 0.0, 0.0, 0.0, 0.0, 0.0, 0.0, 0.0, 0.0, 0.0, 0.0, 0.0, 0.0, 0.0, 0.0, 0.0, 0.0, 0.0, 0.0, 0.0, 0.0, 0.0, 0.0, 0.0, 0.0, 0.0, 0.0, 0.0, 0.0, 0.0, 0.0, 0.0, 1.0, 1.0, 1.0, 1.0, 1.0, 1.0, 1.0, 1.0, 1.0, 1.0, 1.0, 1.0, 1.0, 1.0, 1.0, 1.0, 1.0, 1.0, 1.0, 1.0, 1.0, 1.0, 1.0, 1.0, 1.0, 1.0, 1.0, 1.0, 1.0, 1.0, 1.0, 1.0, 1.0, 1.0, 1.0, 1.0, 1.0, 1.0, 1.0, 1.0, 1.0, 1.0, 1.0, 1.0, 1.0, 1.0, 1.0, 1.0, 1.0, 1.0, 1.0, 1.0, 1.0, 1.0, 1.0, 1.0, 1.0, 1.0, 1.0, 1.0, 1.0, 1.0, 1.0, 1.0, 1.0, 1.0, 1.0, 1.0, 1.0, 1.0, 1.0, 1.0, 1.0, 1.0, 1.0, 1.0, 1.0, 1.0, 1.0, 1.0, 1.0, 1.0, 1.0]\n"
     ]
    }
   ],
   "source": [
    "print(y_val)"
   ]
  },
  {
   "cell_type": "code",
   "execution_count": 37,
   "metadata": {},
   "outputs": [
    {
     "data": {
      "image/png": "[encoded data removed]",
      "text/plain": [
       "<Figure size 432x288 with 1 Axes>"
      ]
     },
     "metadata": {
      "needs_background": "light"
     },
     "output_type": "display_data"
    },
    {
     "name": "stdout",
     "output_type": "stream",
     "text": [
      "[0. 1.]\n",
      "[109  83]\n"
     ]
    }
   ],
   "source": [
    "x_val,x_val2=np.unique(y_val,return_counts=True)\n",
    "plt.bar(x_val,x_val2)\n",
    "plt.show()\n",
    "print(x_val)\n",
    "print(x_val2)\n",
    "#Plot showing number of classes ana no of examples in each class."
   ]
  },
  {
   "cell_type": "code",
   "execution_count": null,
   "metadata": {},
   "outputs": [],
   "source": []
  }
 ],
 "metadata": {
  "kernelspec": {
   "display_name": "Python 3",
   "language": "python",
   "name": "python3"
  },
  "language_info": {
   "codemirror_mode": {
    "name": "ipython",
    "version": 3
   },
   "file_extension": ".py",
   "mimetype": "text/x-python",
   "name": "python",
   "nbconvert_exporter": "python",
   "pygments_lexer": "ipython3",
   "version": "3.8.3"
  }
 },
 "nbformat": 4,
 "nbformat_minor": 4
}
